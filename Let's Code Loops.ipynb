{
 "cells": [
  {
   "cell_type": "code",
   "execution_count": 1,
   "metadata": {},
   "outputs": [
    {
     "name": "stdout",
     "output_type": "stream",
     "text": [
      "0 ,1 ,1 ,2 ,3 ,5 ,8 ,13 ,21 ,34 ,55 ,89 ,144 ,"
     ]
    }
   ],
   "source": [
    "x=0\n",
    "y=1\n",
    "while x <= 145:\n",
    "    print(x,\",\",end='')\n",
    "    y+=x\n",
    "    x=y-x"
   ]
  },
  {
   "cell_type": "code",
   "execution_count": 2,
   "metadata": {},
   "outputs": [
    {
     "name": "stdout",
     "output_type": "stream",
     "text": [
      "Enter value for list1: 26\n",
      "Do you want to continue? (Y/N)\n",
      "Y\n",
      "Enter value for list1: -45\n",
      "Do you want to continue? (Y/N)\n",
      "Y\n",
      "Enter value for list1: 8\n",
      "Do you want to continue? (Y/N)\n",
      "N\n",
      "[26, 8]\n",
      "\n",
      "Enter value for list2: -587\n",
      "Do you want to continue? (Y/N)\n",
      "Y\n",
      "Enter value for list2: 469\n",
      "Do you want to continue? (Y/N)\n",
      "Y\n",
      "Enter value for list2: 0\n",
      "Do you want to continue? (Y/N)\n",
      "N\n",
      "[469]\n"
     ]
    }
   ],
   "source": [
    "c='Y'\n",
    "list1=[]\n",
    "while c=='Y':\n",
    "    x=int(input(\"Enter value for list1: \"))\n",
    "    list1.append(x)\n",
    "    print(\"Do you want to continue? (Y/N)\")\n",
    "    c=input()\n",
    "p1=[]\n",
    "for x in list1:\n",
    "    if x>0:\n",
    "        p1.append(x)\n",
    "print(p1)\n",
    "print()\n",
    "c='Y'\n",
    "list2=[]\n",
    "while c=='Y':\n",
    "    x=int(input(\"Enter value for list2: \"))\n",
    "    list2.append(x)\n",
    "    print(\"Do you want to continue? (Y/N)\")\n",
    "    c=input()\n",
    "p2=[]\n",
    "for x in list2:\n",
    "    if x>0:\n",
    "        p2.append(x)\n",
    "print(p2)"
   ]
  }
 ],
 "metadata": {
  "kernelspec": {
   "display_name": "Python 3",
   "language": "python",
   "name": "python3"
  },
  "language_info": {
   "codemirror_mode": {
    "name": "ipython",
    "version": 3
   },
   "file_extension": ".py",
   "mimetype": "text/x-python",
   "name": "python",
   "nbconvert_exporter": "python",
   "pygments_lexer": "ipython3",
   "version": "3.8.3"
  }
 },
 "nbformat": 4,
 "nbformat_minor": 4
}
