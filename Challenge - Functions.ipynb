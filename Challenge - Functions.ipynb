{
 "cells": [
  {
   "cell_type": "code",
   "execution_count": 1,
   "metadata": {},
   "outputs": [
    {
     "name": "stdout",
     "output_type": "stream",
     "text": [
      "Enter a word: Deconstruction\n",
      "{'d': 1, 'e': 1, 'c': 2, 'o': 2, 'n': 2, 's': 1, 't': 2, 'r': 1, 'u': 1, 'i': 1}\n"
     ]
    }
   ],
   "source": [
    "def most_frequent(str):\n",
    "    freq=dict()\n",
    "    for a in str:\n",
    "        b=a.casefold()\n",
    "        if b in freq:\n",
    "            freq[b]+=1\n",
    "        else:\n",
    "            freq[b]=1\n",
    "    print(freq)\n",
    "ch=input(\"Enter a word: \")\n",
    "most_frequent(ch)"
   ]
  }
 ],
 "metadata": {
  "kernelspec": {
   "display_name": "Python 3",
   "language": "python",
   "name": "python3"
  },
  "language_info": {
   "codemirror_mode": {
    "name": "ipython",
    "version": 3
   },
   "file_extension": ".py",
   "mimetype": "text/x-python",
   "name": "python",
   "nbconvert_exporter": "python",
   "pygments_lexer": "ipython3",
   "version": "3.8.3"
  }
 },
 "nbformat": 4,
 "nbformat_minor": 4
}
