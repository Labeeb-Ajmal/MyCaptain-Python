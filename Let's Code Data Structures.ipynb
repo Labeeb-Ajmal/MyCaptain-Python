{
 "cells": [
  {
   "cell_type": "code",
   "execution_count": 1,
   "metadata": {},
   "outputs": [
    {
     "name": "stdout",
     "output_type": "stream",
     "text": [
      "Enter the radius of the circle: 7\n",
      "The area of the circle with radius 7 is: 153.93804002589985\n"
     ]
    }
   ],
   "source": [
    "import math\n",
    "r=int(input(\"Enter the radius of the circle: \"))\n",
    "p=math.pi\n",
    "ar=r*r*p\n",
    "print(\"The area of the circle with radius\",r,\"is:\",ar)"
   ]
  },
  {
   "cell_type": "code",
   "execution_count": 2,
   "metadata": {},
   "outputs": [
    {
     "name": "stdout",
     "output_type": "stream",
     "text": [
      "Enter the name of the file: Run Boy Run.mp3\n",
      "It is an audio file\n"
     ]
    }
   ],
   "source": [
    "name=input(\"Enter the name of the file: \")\n",
    "f=0\n",
    "ext=' '\n",
    "for x in name:\n",
    "    if x == '.':\n",
    "        f=1\n",
    "    if f:\n",
    "        ext+=str(x)\n",
    "#This is just including a few file types. Not all of them\n",
    "if ext==\" .py\":\n",
    "    print(\"It is a Python file\")\n",
    "elif ext==\".jpeg\" or ext==\" .png\":\n",
    "    print(\"It is an image file\")\n",
    "elif ext==\" .doc\":\n",
    "    print(\"It is a Word file\")\n",
    "elif ext==\" .pdf\":\n",
    "    print(\"It is a PDF  file\")\n",
    "elif ext==\" .txt\":\n",
    "    print(\"It is a text file\")\n",
    "elif ext==\" .csv\" or ext==\" .xls\":\n",
    "    print(\"It is an Excel file\")\n",
    "elif ext==\" .mp4\" or ext==\" .mkv\":\n",
    "    print(\"It is a video file\")\n",
    "elif ext==\" .mp3\" or ext==\" .avi\":\n",
    "    print(\"It is an audio file\")\n",
    "else:\n",
    "    print(\"File format unidentified\")"
   ]
  }
 ],
 "metadata": {
  "kernelspec": {
   "display_name": "Python 3",
   "language": "python",
   "name": "python3"
  },
  "language_info": {
   "codemirror_mode": {
    "name": "ipython",
    "version": 3
   },
   "file_extension": ".py",
   "mimetype": "text/x-python",
   "name": "python",
   "nbconvert_exporter": "python",
   "pygments_lexer": "ipython3",
   "version": "3.8.3"
  }
 },
 "nbformat": 4,
 "nbformat_minor": 4
}
